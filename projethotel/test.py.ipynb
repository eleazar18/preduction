{
 "cells": [
  {
   "cell_type": "code",
   "execution_count": 19,
   "id": "3ea5dce2",
   "metadata": {},
   "outputs": [],
   "source": [
    "import joblib\n",
    "from sklearn.linear_model import LinearRegression"
   ]
  },
  {
   "cell_type": "code",
   "execution_count": 20,
   "id": "06d685ab",
   "metadata": {},
   "outputs": [],
   "source": [
    "# regresser=LinearRegression()"
   ]
  },
  {
   "cell_type": "code",
   "execution_count": 21,
   "id": "56796e21",
   "metadata": {},
   "outputs": [],
   "source": [
    "test=[[2,2,2,2,1]]\n",
    "model=joblib.load('notreModel.pkl')"
   ]
  },
  {
   "cell_type": "code",
   "execution_count": 22,
   "id": "ef286d6a",
   "metadata": {},
   "outputs": [
    {
     "data": {
      "text/plain": [
       "68.00827548970221"
      ]
     },
     "execution_count": 22,
     "metadata": {},
     "output_type": "execute_result"
    }
   ],
   "source": [
    "pred=model.predict(test)[0]\n",
    "pred"
   ]
  },
  {
   "cell_type": "markdown",
   "id": "9ed9c233",
   "metadata": {},
   "source": []
  },
  {
   "cell_type": "code",
   "execution_count": null,
   "id": "88c8f31e",
   "metadata": {},
   "outputs": [],
   "source": []
  }
 ],
 "metadata": {
  "kernelspec": {
   "display_name": "Python 3 (ipykernel)",
   "language": "python",
   "name": "python3"
  },
  "language_info": {
   "codemirror_mode": {
    "name": "ipython",
    "version": 3
   },
   "file_extension": ".py",
   "mimetype": "text/x-python",
   "name": "python",
   "nbconvert_exporter": "python",
   "pygments_lexer": "ipython3",
   "version": "3.9.7"
  }
 },
 "nbformat": 4,
 "nbformat_minor": 5
}
